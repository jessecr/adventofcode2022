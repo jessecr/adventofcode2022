{
 "cells": [
  {
   "cell_type": "code",
   "execution_count": 53,
   "metadata": {},
   "outputs": [],
   "source": [
    "sensors = []\n",
    "beacons = []\n",
    "with open('input.txt', 'r') as fd:\n",
    "    for line in fd:\n",
    "        parts = line.replace(',', '').replace('=', ' ').replace(':', '').split()\n",
    "        sx, sy, bx, by = map(int, [parts[3], parts[5], parts[-3], parts[-1]])\n",
    "        sensors.append((sx, sy))\n",
    "        beacons.append((bx, by))\n",
    "\n",
    "items = set(sensors + beacons)\n",
    "x_vals = sorted(i[0] for i in items)\n",
    "min_x, max_x = x_vals[0], x_vals[-1]\n",
    "y_vals = sorted(i[1] for i in items)\n",
    "min_y, max_y = y_vals[0], y_vals[-1]\n",
    "# min_y = -2\n",
    "dims = (min_x, min_y, max_x, max_y)"
   ]
  },
  {
   "cell_type": "code",
   "execution_count": 5,
   "metadata": {},
   "outputs": [],
   "source": [
    "def visualize(sensors, beacons, dims, symbols=None):\n",
    "    min_x, min_y, max_x, max_y = dims\n",
    "    symbols = {} if symbols is None else symbols\n",
    "    y_size = len(str(max_y)) + 1\n",
    "    for r in range(min_y, max_y + 1):\n",
    "        row = [f'{r: <{y_size}}']\n",
    "        for c in range(min_x, max_x + 1):\n",
    "            cell = (c, r)\n",
    "            if cell in sensors:\n",
    "                v = 'S'\n",
    "            elif cell in beacons:\n",
    "                v = 'B'\n",
    "            elif cell in symbols:\n",
    "                v = symbols[cell]\n",
    "            else:\n",
    "                v = '.'\n",
    "            row.append(v)\n",
    "        print(' '.join(row))"
   ]
  },
  {
   "cell_type": "code",
   "execution_count": 17,
   "metadata": {},
   "outputs": [],
   "source": [
    "def get_covered_offsets(dist):\n",
    "    covered = set()\n",
    "    for x in range(dist * -1, dist + 1):\n",
    "        y = dist - abs(x)\n",
    "        for y1 in range(y * -1, y + 1):\n",
    "            covered.add((x, y1))\n",
    "    return covered\n",
    "\n",
    "def get_covered_x_coords(coord, dist, y_val):\n",
    "    covered = set()\n",
    "    y_delta = abs(coord[1] - y_val)\n",
    "    if y_delta > dist:\n",
    "        return covered\n",
    "    x_max = dist - y_delta\n",
    "    return {coord[0] + x for x in range(x_max * -1, x_max + 1)}\n",
    "\n",
    "\n",
    "    # x, y = coord\n",
    "    # for x_offset, y_offset in get_covered_offsets(dist):\n",
    "    #     if y + y_offset == y_val:\n",
    "    #         covered.add((x + x_offset, y + y_offset))\n",
    "    # return covered"
   ]
  },
  {
   "cell_type": "code",
   "execution_count": 21,
   "metadata": {},
   "outputs": [],
   "source": [
    "seen = set()\n",
    "y_val = 2000000\n",
    "items_x_coords = {i[0] for i in items if i[1] == y_val}\n",
    "for (sx, sy), (bx, by) in zip(sensors, beacons):\n",
    "    dist = abs(bx - sx) + abs(by - sy)\n",
    "    covered = set(get_covered_x_coords((sx, sy), dist, y_val)).difference(items_x_coords)\n",
    "    seen.update(covered)\n",
    "    # symbols = {}.fromkeys(seen, '#')\n",
    "    # symbols.update({(sx, sy): 'X', (bx, by): 'O'})\n",
    "    # visualize(sensors, beacons, dims, symbols)"
   ]
  },
  {
   "cell_type": "code",
   "execution_count": 22,
   "metadata": {},
   "outputs": [
    {
     "data": {
      "text/plain": [
       "5367037"
      ]
     },
     "execution_count": 22,
     "metadata": {},
     "output_type": "execute_result"
    }
   ],
   "source": [
    "len(seen)"
   ]
  },
  {
   "attachments": {},
   "cell_type": "markdown",
   "metadata": {},
   "source": [
    "Part 2"
   ]
  },
  {
   "cell_type": "code",
   "execution_count": null,
   "metadata": {},
   "outputs": [],
   "source": [
    "def intersect(x_vals, left, right):\n",
    "    if right <= x_vals[0][0] or left >= x_vals[-1][1]:\n",
    "        return x_vals\n",
    "    out = []\n",
    "    for s, e in x_vals:\n",
    "        if left <= s and e <= right:\n",
    "            # Completely covers\n",
    "            continue\n",
    "\n",
    "        if left < s and right < s or left > e and right > e:\n",
    "            out.append((s, e))\n",
    "            continue\n",
    "\n",
    "        if s < left and right < e:\n",
    "            # Split\n",
    "            out.append((s, left - 1))\n",
    "            out.append((right + 1, e))\n",
    "            continue\n",
    "\n",
    "        # Truncate\n",
    "        if left <= s and s <= right:\n",
    "            s = right + 1\n",
    "        elif left <= e and e <= right:\n",
    "            e = left  - 1\n",
    "        out.append((s, e))\n",
    "\n",
    "    return out"
   ]
  },
  {
   "cell_type": "code",
   "execution_count": 39,
   "metadata": {},
   "outputs": [
    {
     "data": {
      "text/plain": [
       "[(0, 4), (6, 10)]"
      ]
     },
     "execution_count": 39,
     "metadata": {},
     "output_type": "execute_result"
    }
   ],
   "source": [
    "intersect([(0, 10)], 5, 5)"
   ]
  },
  {
   "cell_type": "code",
   "execution_count": 57,
   "metadata": {},
   "outputs": [
    {
     "name": "stdout",
     "output_type": "stream",
     "text": [
      "found it\n",
      "2978645 3249288 11914583249288\n"
     ]
    }
   ],
   "source": [
    "limit = 4000000\n",
    "dists = [(sx, sy, abs(bx - sx) + abs(by - sy)) for (sx, sy), (bx, by) in zip(sensors, beacons)]\n",
    "for row in range(limit + 1):\n",
    "    p = [(0, limit)]\n",
    "    for sx, sy, d in dists:\n",
    "        if sy - d <= row <= sy + d:\n",
    "            x_offset = d - abs(row - sy)\n",
    "            left = sx - x_offset\n",
    "            right = sx + x_offset\n",
    "            p = intersect(p, left, right)\n",
    "            if not p:\n",
    "                break\n",
    "\n",
    "    if p:\n",
    "        print('found it')\n",
    "        x = p[0][0]\n",
    "        print(x, row, x * 4000000 + row)\n",
    "        break"
   ]
  }
 ],
 "metadata": {
  "kernelspec": {
   "display_name": "Python 3.11.0 ('venv': venv)",
   "language": "python",
   "name": "python3"
  },
  "language_info": {
   "codemirror_mode": {
    "name": "ipython",
    "version": 3
   },
   "file_extension": ".py",
   "mimetype": "text/x-python",
   "name": "python",
   "nbconvert_exporter": "python",
   "pygments_lexer": "ipython3",
   "version": "3.11.0 (main, Oct 24 2022, 18:26:48) [MSC v.1933 64 bit (AMD64)]"
  },
  "orig_nbformat": 4,
  "vscode": {
   "interpreter": {
    "hash": "4d43e88d46fe556c8019dc4092b8a78eb0925767a373eb800e353faa840bf082"
   }
  }
 },
 "nbformat": 4,
 "nbformat_minor": 2
}
