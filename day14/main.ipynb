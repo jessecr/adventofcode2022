{
 "cells": [
  {
   "cell_type": "code",
   "execution_count": 7,
   "metadata": {},
   "outputs": [],
   "source": [
    "rocks = []\n",
    "with open('input.txt', 'r') as fd:\n",
    "    for line in fd:\n",
    "        start = None\n",
    "        for coordstr in line.split(' -> '):\n",
    "            coords = list(map(int, coordstr.split(',')))\n",
    "            if start is not None:\n",
    "                if start[0] == coords[0]:\n",
    "                    s, e = sorted([start[1], coords[1]])\n",
    "                    rocks.extend([(start[0], i) for i in range(s, e + 1, 1)])\n",
    "                else:\n",
    "                    s, e = sorted([start[0], coords[0]])\n",
    "                    rocks.extend([(i, start[1]) for i in range(s, e + 1)])\n",
    "\n",
    "            start = coords\n",
    "\n",
    "rocks.sort()\n",
    "min_x = min(v[0] for v in rocks)\n",
    "min_y = 0\n",
    "max_x = max(v[0] for v in rocks)\n",
    "max_y = max(v[1] for v in rocks)\n",
    "            "
   ]
  },
  {
   "cell_type": "code",
   "execution_count": 2,
   "metadata": {},
   "outputs": [],
   "source": [
    "def visualize(rocks, sand, active, floor):\n",
    "    rows = []\n",
    "    for y in range(min_y, floor + 1):\n",
    "        row = []\n",
    "        for x in range(min_x - 5, max_x + 1 + 5):\n",
    "            cell = (x, y)\n",
    "            if cell == sand_origin:\n",
    "                v = '+'\n",
    "            elif cell in rocks or cell[1] == floor:\n",
    "                v = '#'\n",
    "            elif cell in sand:\n",
    "                v = 'o'\n",
    "            elif cell == active:\n",
    "                v = 'X'\n",
    "            else:\n",
    "                v = '.'\n",
    "            row.append(v)\n",
    "        rows.append(row)\n",
    "\n",
    "    for row in rows:\n",
    "        print(' '.join(row))\n",
    "\n",
    "\n"
   ]
  },
  {
   "cell_type": "code",
   "execution_count": 8,
   "metadata": {},
   "outputs": [],
   "source": [
    "from IPython.display import clear_output\n",
    "\n",
    "offsets = ((0, 1), (-1, 1), (1, 1))\n",
    "def get_next_pos(active, obstacles, floor):\n",
    "    if floor is not None and active[1] == floor - 1:\n",
    "        return None\n",
    "    for x_offset, y_offset in offsets:\n",
    "        new_pos = tuple((active[0] + x_offset, active[1] + y_offset))\n",
    "        if new_pos not in obstacles:\n",
    "            return new_pos\n",
    "\n",
    "sand_origin = (500, 0)\n",
    "sand = []\n",
    "obstacles = set(rocks + sand)\n",
    "active = sand_origin\n",
    "while True:\n",
    "    new_pos = get_next_pos(active, obstacles, max_y + 2)\n",
    "    if new_pos is None:\n",
    "        sand.append(active)\n",
    "        obstacles.add(active)\n",
    "        if active == sand_origin:\n",
    "            break\n",
    "        active = sand_origin\n",
    "    # elif new_pos[1] == max_y:\n",
    "    #     break\n",
    "    else:\n",
    "        active = new_pos\n",
    "    # if len(sand) > 20:\n",
    "    #     clear_output(wait=True)\n",
    "    #     visualize(rocks, sand, active, max_y + 2)\n",
    "        "
   ]
  }
 ],
 "metadata": {
  "kernelspec": {
   "display_name": "Python 3.11.0 ('venv': venv)",
   "language": "python",
   "name": "python3"
  },
  "language_info": {
   "codemirror_mode": {
    "name": "ipython",
    "version": 3
   },
   "file_extension": ".py",
   "mimetype": "text/x-python",
   "name": "python",
   "nbconvert_exporter": "python",
   "pygments_lexer": "ipython3",
   "version": "3.11.0 (main, Oct 24 2022, 18:26:48) [MSC v.1933 64 bit (AMD64)]"
  },
  "orig_nbformat": 4,
  "vscode": {
   "interpreter": {
    "hash": "4d43e88d46fe556c8019dc4092b8a78eb0925767a373eb800e353faa840bf082"
   }
  }
 },
 "nbformat": 4,
 "nbformat_minor": 2
}
