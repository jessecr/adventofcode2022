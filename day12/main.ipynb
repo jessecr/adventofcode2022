{
 "cells": [
  {
   "cell_type": "code",
   "execution_count": 1,
   "metadata": {},
   "outputs": [],
   "source": [
    "from queue import PriorityQueue\n",
    "import numpy as np"
   ]
  },
  {
   "cell_type": "code",
   "execution_count": 4,
   "metadata": {},
   "outputs": [],
   "source": []
  },
  {
   "cell_type": "code",
   "execution_count": 5,
   "metadata": {},
   "outputs": [
    {
     "data": {
      "text/plain": [
       "array([[ 97,  97,  98, 113, 112, 111, 110, 109],\n",
       "       [ 97,  98,  99, 114, 121, 120, 120, 108],\n",
       "       [ 97,  99,  99, 115, 122, 122, 120, 107],\n",
       "       [ 97,  99,  99, 116, 117, 118, 119, 106],\n",
       "       [ 97,  98, 100, 101, 102, 103, 104, 105]])"
      ]
     },
     "execution_count": 5,
     "metadata": {},
     "output_type": "execute_result"
    }
   ],
   "source": [
    "grid"
   ]
  },
  {
   "cell_type": "code",
   "execution_count": 2,
   "metadata": {},
   "outputs": [],
   "source": [
    "adjacent_cell_offsets = ((0, 1), (0, -1), (1, 0), (-1, 0))\n",
    "\n",
    "\n",
    "def get_adjacent_cells(shape, row, col):\n",
    "    for ro, co in adjacent_cell_offsets:\n",
    "        if 0 <= row + ro < shape[0] and 0 <= col + co < shape[1]:\n",
    "            yield row + ro, col + co"
   ]
  },
  {
   "cell_type": "code",
   "execution_count": 18,
   "metadata": {},
   "outputs": [
    {
     "data": {
      "text/plain": [
       "462"
      ]
     },
     "execution_count": 18,
     "metadata": {},
     "output_type": "execute_result"
    }
   ],
   "source": [
    "rows = []\n",
    "start = end = None\n",
    "with open('input.txt', 'r') as fd:\n",
    "    for i, line in enumerate(fd):\n",
    "        if 'S' in line:\n",
    "            start = (i, line.index('S'))\n",
    "            line = line.replace('S', 'a')\n",
    "        if 'E' in line:\n",
    "            end = (i, line.index('E'))\n",
    "            line = line.replace('E', 'z')\n",
    "        rows.append(list(map(ord, line.strip())))\n",
    "\n",
    "grid = np.array(rows)\n",
    "\n",
    "def get_cost(grid, src, dest):\n",
    "    src_val = grid[src]\n",
    "    dest_val = grid[dest]\n",
    "    if dest_val > src_val + 1:\n",
    "        return np.inf\n",
    "    return 1\n",
    "\n",
    "distances = np.ones(grid.shape) * np.inf\n",
    "distances[end] = 0\n",
    "\n",
    "visited = set()\n",
    "unvisited = PriorityQueue()\n",
    "unvisited.put((0, end))\n",
    "while not unvisited.empty():\n",
    "    p, cell = unvisited.get()\n",
    "    for neighbor in get_adjacent_cells(grid.shape, cell[0], cell[1]):\n",
    "        if neighbor not in visited:\n",
    "            new_dist = distances[cell] + get_cost(grid, cell, neighbor)\n",
    "            if new_dist < distances[neighbor]:\n",
    "                distances[neighbor] = new_dist\n",
    "                unvisited.put((new_dist, neighbor))\n",
    "\n",
    "    visited.add(cell)\n",
    "    \n",
    "int(distances[end])"
   ]
  },
  {
   "cell_type": "code",
   "execution_count": 17,
   "metadata": {},
   "outputs": [
    {
     "data": {
      "text/plain": [
       "array([[ 0., inf, inf, ..., inf, inf, inf],\n",
       "       [inf, inf, inf, ..., inf, inf, inf],\n",
       "       [inf, inf, inf, ..., inf, inf, inf],\n",
       "       ...,\n",
       "       [inf, inf, inf, ..., inf, inf, inf],\n",
       "       [inf, inf, inf, ..., inf, inf, inf],\n",
       "       [inf, inf, inf, ..., inf, inf, inf]])"
      ]
     },
     "execution_count": 17,
     "metadata": {},
     "output_type": "execute_result"
    }
   ],
   "source": [
    "distances"
   ]
  }
 ],
 "metadata": {
  "kernelspec": {
   "display_name": "Python 3.11.0 ('venv': venv)",
   "language": "python",
   "name": "python3"
  },
  "language_info": {
   "codemirror_mode": {
    "name": "ipython",
    "version": 3
   },
   "file_extension": ".py",
   "mimetype": "text/x-python",
   "name": "python",
   "nbconvert_exporter": "python",
   "pygments_lexer": "ipython3",
   "version": "3.11.0"
  },
  "orig_nbformat": 4,
  "vscode": {
   "interpreter": {
    "hash": "4d43e88d46fe556c8019dc4092b8a78eb0925767a373eb800e353faa840bf082"
   }
  }
 },
 "nbformat": 4,
 "nbformat_minor": 2
}
