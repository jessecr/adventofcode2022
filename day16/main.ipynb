{
 "cells": [
  {
   "cell_type": "code",
   "execution_count": 1,
   "metadata": {},
   "outputs": [],
   "source": [
    "from queue import PriorityQueue"
   ]
  },
  {
   "cell_type": "code",
   "execution_count": 2,
   "metadata": {},
   "outputs": [],
   "source": [
    "valves = {}\n",
    "flow_rates = {}\n",
    "start_valve = None\n",
    "with open('input.txt', 'r') as fd:\n",
    "# with open('example_input.txt', 'r') as fd:\n",
    "    for line in fd:\n",
    "        parts = line.replace('=', ' ').replace(';', '').replace(',', '').split()\n",
    "        node = parts[1]\n",
    "        rate = int(parts[5])\n",
    "        children = parts[parts.index('to') + 2:]\n",
    "        if start_valve is None:\n",
    "            start_valve = node\n",
    "\n",
    "        valves[node] = children\n",
    "        flow_rates[node] = rate\n",
    "\n",
    "    "
   ]
  },
  {
   "cell_type": "code",
   "execution_count": null,
   "metadata": {},
   "outputs": [],
   "source": [
    "def calculate_distances(valves):\n",
    "    all_distances = {}\n",
    "\n",
    "    for valve in valves:\n",
    "        distances = {}\n",
    "        distances[valve] = 0\n",
    "\n",
    "        visited = set()\n",
    "        unvisited = PriorityQueue()\n",
    "        unvisited.put((0, valve))\n",
    "        while not unvisited.empty():\n",
    "            p, cell = unvisited.get()\n",
    "            for neighbor in valves[cell][1]:\n",
    "                if neighbor not in visited:\n",
    "                    new_dist = distances[cell] + 1\n",
    "                    if new_dist < distances.get(neighbor, 1e10):\n",
    "                        distances[neighbor] = new_dist\n",
    "                        unvisited.put((new_dist, neighbor))\n",
    "\n",
    "            visited.add(cell)\n",
    "        \n",
    "        all_distances[valve] = distances\n",
    "    return all_distances"
   ]
  },
  {
   "cell_type": "code",
   "execution_count": null,
   "metadata": {},
   "outputs": [],
   "source": [
    "dists = calculate_distances(valves)"
   ]
  },
  {
   "cell_type": "code",
   "execution_count": null,
   "metadata": {},
   "outputs": [],
   "source": [
    "graph = {\n",
    "    0: set([1, 2]),\n",
    "    1: set([3]),\n",
    "    2: set([4, 5]),\n",
    "    3: set([2]),\n",
    "    4: set([1]),\n",
    "    5: set([0])\n",
    "}"
   ]
  },
  {
   "cell_type": "code",
   "execution_count": 3,
   "metadata": {},
   "outputs": [],
   "source": [
    "def shortest_paths(graph, start):\n",
    "    visited = set()\n",
    "    distances = {}\n",
    "\n",
    "    q = PriorityQueue()\n",
    "    q.put((0, start))\n",
    "    \n",
    "    while not q.empty():\n",
    "        node_cost, node = q.get()\n",
    "        for nn in graph[node]:\n",
    "            if nn not in visited:\n",
    "                cost = node_cost + 1\n",
    "                if nn not in distances or cost < distances[nn]:\n",
    "                    distances[nn] = cost\n",
    "                    q.put((cost, nn))\n",
    "        \n",
    "        visited.add(node)\n",
    "\n",
    "    return distances"
   ]
  },
  {
   "cell_type": "code",
   "execution_count": 4,
   "metadata": {},
   "outputs": [],
   "source": [
    "non_zero_valves = {k: v for k, v in valves.items() if flow_rates[k] > 0}\n",
    "non_zero_valve_distances = {}\n",
    "for valve in list(non_zero_valves) + ['AA']:\n",
    "    ds = shortest_paths(valves, valve)\n",
    "    non_zero_valve_distances[valve] = {k: v for k, v in ds.items() if k in non_zero_valves}"
   ]
  },
  {
   "attachments": {},
   "cell_type": "markdown",
   "metadata": {},
   "source": [
    "#### Part 1 "
   ]
  },
  {
   "cell_type": "code",
   "execution_count": null,
   "metadata": {},
   "outputs": [],
   "source": [
    "def part_1(distances, start, minutes, opened):\n",
    "    opened = set(opened)\n",
    "    stack = [(start, [], minutes, opened, 0)]\n",
    "    best = 0\n",
    "    best_path = None\n",
    "    while stack:\n",
    "        node, path, minutes, opened, score = stack.pop()\n",
    "        # node = path[-1]\n",
    "        to_visit = set(distances[node]) - opened\n",
    "        if not to_visit:\n",
    "            if score > best:\n",
    "                best_path = path.copy()\n",
    "                best = score\n",
    "        for nn in to_visit:\n",
    "            dist = distances[node][nn]\n",
    "            new_minutes = minutes - dist - 1\n",
    "            if new_minutes <= 0:\n",
    "                # best = max(score, best)\n",
    "                if score > best:\n",
    "                    best = score\n",
    "                    best_path = path.copy()\n",
    "            else:\n",
    "                new_path = path + [nn]\n",
    "                new_opened = opened.copy()\n",
    "                new_opened.add(nn)\n",
    "                new_score = score + new_minutes * flow_rates[nn]\n",
    "                stack.append((nn, new_path, new_minutes, new_opened, new_score))\n",
    "\n",
    "    return best, best_path"
   ]
  },
  {
   "attachments": {},
   "cell_type": "markdown",
   "metadata": {},
   "source": [
    "#### Part 2"
   ]
  },
  {
   "cell_type": "code",
   "execution_count": 5,
   "metadata": {},
   "outputs": [],
   "source": [
    "from itertools import combinations"
   ]
  },
  {
   "cell_type": "code",
   "execution_count": null,
   "metadata": {},
   "outputs": [],
   "source": [
    "results = {}\n",
    "combos = list(combinations(non_zero_valves, 7))\n",
    "num_combos = len(combos)\n",
    "for i, opened in enumerate(combos):\n",
    "    print(f'{i} / {num_combos}', end='\\r')\n",
    "    results[opened] = part_1(non_zero_valve_distances, 'AA', 26, opened)"
   ]
  },
  {
   "cell_type": "code",
   "execution_count": null,
   "metadata": {},
   "outputs": [],
   "source": [
    "totals = []\n",
    "num_results = len(results)\n",
    "for i, (my_score, my_path) in enumerate(results.values()):\n",
    "    print(f'{i} / {num_results}', end='\\r')\n",
    "    el_score, el_path = part_1(non_zero_valve_distances, 'AA', 26, my_path)\n",
    "    totals.append(\n",
    "        ((tuple(my_path), tuple(el_path)), my_score + el_score)\n",
    "    )"
   ]
  },
  {
   "cell_type": "code",
   "execution_count": null,
   "metadata": {},
   "outputs": [],
   "source": [
    "sorted(totals, key=lambda x: x[1], reverse=True)[0]"
   ]
  },
  {
   "cell_type": "code",
   "execution_count": 6,
   "metadata": {},
   "outputs": [],
   "source": [
    "def compute_all_traversals(distances, start, minutes, flow_rates):\n",
    "    stack = [(start, minutes, set(), 0)]\n",
    "    scores = {}\n",
    "    while stack:\n",
    "        node, minutes, opened, score = stack.pop()\n",
    "\n",
    "        # The order that the valves were visited doesn't matter for finding the\n",
    "        # optimal route. We just want the highest score for any permutation of\n",
    "        # each set of valves.\n",
    "        _opened = frozenset(opened)\n",
    "        scores[_opened] = max(scores.get(_opened, 0), score)\n",
    "\n",
    "        # Don't visit valves we have already opened\n",
    "        to_visit = set(distances[node]).difference(opened)\n",
    "        for nn in to_visit:\n",
    "            dist = distances[node][nn]\n",
    "            new_minutes = minutes - dist - 1\n",
    "            if new_minutes > 0:\n",
    "                # We have time to travel to and open this valve\n",
    "                new_score = score + new_minutes * flow_rates[nn]\n",
    "                stack.append(\n",
    "                    (nn, new_minutes, opened | {nn}, new_score)\n",
    "                    )\n",
    "\n",
    "    return scores"
   ]
  },
  {
   "cell_type": "code",
   "execution_count": 7,
   "metadata": {},
   "outputs": [
    {
     "data": {
      "text/plain": [
       "1490"
      ]
     },
     "execution_count": 7,
     "metadata": {},
     "output_type": "execute_result"
    }
   ],
   "source": [
    "scores = compute_all_traversals(non_zero_valve_distances, 'AA', 26, flow_rates)\n",
    "sorted(scores.values())[-1]"
   ]
  },
  {
   "cell_type": "code",
   "execution_count": null,
   "metadata": {},
   "outputs": [],
   "source": [
    "scores = {set()}"
   ]
  },
  {
   "cell_type": "code",
   "execution_count": 8,
   "metadata": {},
   "outputs": [
    {
     "data": {
      "text/plain": [
       "((frozenset({'BV', 'CF', 'EZ', 'JX', 'LB', 'WM'}),\n",
       "  frozenset({'HG', 'IK', 'IT', 'VK', 'WH', 'WL'})),\n",
       " 2469)"
      ]
     },
     "execution_count": 8,
     "metadata": {},
     "output_type": "execute_result"
    }
   ],
   "source": [
    "# Find largest score for two traversals with non-overlapping paths\n",
    "totals = {}\n",
    "for path1, score1 in scores.items():\n",
    "    for path2, score2 in scores.items():\n",
    "        if path1 and path2 and not path1.intersection(path2):\n",
    "            totals[(path1, path2)] = score1 + score2\n",
    "\n",
    "sorted(totals.items(), key=lambda x: x[1], reverse=True)[0]"
   ]
  },
  {
   "attachments": {},
   "cell_type": "markdown",
   "metadata": {},
   "source": [
    "#### Other"
   ]
  },
  {
   "cell_type": "code",
   "execution_count": null,
   "metadata": {},
   "outputs": [],
   "source": [
    "sorted(paths, key=lambda x: x[0], reverse=True)"
   ]
  },
  {
   "cell_type": "code",
   "execution_count": null,
   "metadata": {},
   "outputs": [],
   "source": [
    "all_paths = []\n",
    "\n",
    "def traverse(graph, node, visited):\n",
    "    visited.append(node)\n",
    "    if not graph[node]:\n",
    "        all_paths.append(visited)\n",
    "    else:\n",
    "        for node in graph[node]:\n",
    "            if node not in visited:\n",
    "                traverse(graph, node, visited.copy())\n",
    "\n",
    "def dfs_search_all_paths(graph, node, steps):\n",
    "    stack = [([node], steps, [])]\n",
    "    while stack:\n",
    "        path, steps, visited = stack.pop()\n",
    "        children = graph[path[-1]][1]\n",
    "        # Visited all paths, no time left, or no child nodes\n",
    "        if len(set(path)) == len(graph) or steps == 0 or not children:\n",
    "            yield path\n",
    "        else:\n",
    "            for nn in children:\n",
    "                stack.append((path + [nn], steps - 1, visited))\n",
    "\n",
    "list(dfs_search_all_paths(valves, 'AA', 6))"
   ]
  },
  {
   "cell_type": "code",
   "execution_count": null,
   "metadata": {},
   "outputs": [],
   "source": [
    "[[0]]\n",
    "[[0, 1], [0, 2]]\n",
    "[[0, 1, 3], [0, 2, 4], [0, 2, 5]]"
   ]
  }
 ],
 "metadata": {
  "kernelspec": {
   "display_name": "Python 3.11.0 ('venv': venv)",
   "language": "python",
   "name": "python3"
  },
  "language_info": {
   "codemirror_mode": {
    "name": "ipython",
    "version": 3
   },
   "file_extension": ".py",
   "mimetype": "text/x-python",
   "name": "python",
   "nbconvert_exporter": "python",
   "pygments_lexer": "ipython3",
   "version": "3.11.0"
  },
  "orig_nbformat": 4,
  "vscode": {
   "interpreter": {
    "hash": "4d43e88d46fe556c8019dc4092b8a78eb0925767a373eb800e353faa840bf082"
   }
  }
 },
 "nbformat": 4,
 "nbformat_minor": 2
}
