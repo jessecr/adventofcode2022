{
 "cells": [
  {
   "cell_type": "code",
   "execution_count": null,
   "metadata": {},
   "outputs": [],
   "source": [
    "from copy import deepcopy\n",
    "from itertools import chain, count, cycle, repeat\n",
    "import numpy as np\n",
    "from IPython.display import clear_output\n",
    "import sys\n",
    "import os"
   ]
  },
  {
   "cell_type": "code",
   "execution_count": 51,
   "metadata": {},
   "outputs": [],
   "source": [
    "SHAPEDEFS = (\n",
    "    [(0, 0), (0, 1), (0, 2), (0, 3)],\n",
    "    [(0, 1), (1, 0), (1, 1), (1, 2), (2, 1)],\n",
    "    [(0, 0), (0, 1), (0, 2), (1, 2), (2, 2)],\n",
    "    [(0, 0), (1, 0), (2, 0), (3, 0)],\n",
    "    [(0, 0), (0, 1), (1, 0), (1, 1)],\n",
    ")\n",
    "\n",
    "def get_shapes():\n",
    "    return cycle(SHAPEDEFS)"
   ]
  },
  {
   "cell_type": "code",
   "execution_count": null,
   "metadata": {},
   "outputs": [],
   "source": [
    "with open('example_input.txt', 'r') as fd:\n",
    "    inp = fd.read()"
   ]
  },
  {
   "cell_type": "code",
   "execution_count": null,
   "metadata": {},
   "outputs": [],
   "source": [
    "with open('viz.txt', 'r') as fd:\n",
    "    viz = fd.read().splitlines()\n",
    "    viz_rev = '\\n'.join(viz[::-1])\n",
    "    with open('viz_rev.txt', 'w') as fd:\n",
    "        fd.write(viz_rev)"
   ]
  },
  {
   "cell_type": "code",
   "execution_count": null,
   "metadata": {},
   "outputs": [],
   "source": [
    "viz_rev_lines = viz[::-1]\n",
    "line_len = len(viz_rev_lines[0]) + 1\n",
    "num_lines = len(viz_rev_lines)\n",
    "idx = 0\n",
    "for i in range(num_lines // 2):\n",
    "    for j in range(i + 5, num_lines - i + 1):\n",
    "        chunk = '\\n'.join(viz_rev_lines[i:j])\n",
    "        offset = j * line_len\n",
    "        if viz_rev.find(chunk, offset) >= 0:\n",
    "            idx = viz_rev.index(chunk, offset)\n",
    "            if idx - offset == 0:\n",
    "                if viz_rev.find(chunk, idx) >= 0:\n",
    "                    idx2 = viz_rev.index(chunk, idx)\n",
    "                    if idx2 - idx == 0:\n",
    "                        print(i, j - i, offset, viz_rev.count(chunk))\n",
    "            # nidx = viz_rev.index(chunk, offset)\n",
    "            # cnt = viz_rev.count(chunk)\n",
    "            # if cnt > 1:\n",
    "            #     if nidx - j == 0:\n",
    "            #         print(i, j - i, nidx - j, cnt)"
   ]
  },
  {
   "cell_type": "code",
   "execution_count": null,
   "metadata": {},
   "outputs": [],
   "source": [
    "inp2 = inp + inp[:int(len(inp) // 2)]\n",
    "size = len(inp2)\n",
    "half_size = int(size // 2)"
   ]
  },
  {
   "cell_type": "code",
   "execution_count": null,
   "metadata": {},
   "outputs": [],
   "source": [
    "for i in range(half_size):\n",
    "    for j in range(i, size - i + 1):\n",
    "        chunk = inp2[i:j]\n",
    "        cnt = inp2.count(chunk)\n",
    "        if cnt > 1:\n",
    "            nidx = inp2.index(chunk, j)\n",
    "            if nidx - j == 0:\n",
    "                print(i, j - i, nidx - j, cnt)"
   ]
  },
  {
   "cell_type": "code",
   "execution_count": 52,
   "metadata": {},
   "outputs": [],
   "source": [
    "def get_input(example=False):\n",
    "    fname = 'example_input.txt' if example else 'input.txt'\n",
    "    with open(fname, 'r') as fd:\n",
    "        return fd.read()\n",
    "\n",
    "def get_offsets_from_input(inp):\n",
    "    \"\"\"Converts the < and > characters in the input to 2D coordinate offsets. Repeats forever.\"\"\"\n",
    "    return cycle((0, -1) if c == '<' else (0, 1) for c in inp.strip())"
   ]
  },
  {
   "cell_type": "code",
   "execution_count": 47,
   "metadata": {},
   "outputs": [],
   "source": [
    "def get_grid_shape(grid):\n",
    "    return len(grid), len(grid[0]) if grid else 0\n",
    "\n",
    "def get_absolute_shape_positions(shape):\n",
    "    x_pos, y_pos = shape['pos']\n",
    "    for offset in shape['offsets']:\n",
    "        subshape_x = x_pos + offset[0]\n",
    "        subshape_y = y_pos + offset[1]\n",
    "        yield subshape_x, subshape_y\n",
    "\n",
    "def has_collision(shape, grid):\n",
    "    rows, cols = get_grid_shape(grid)\n",
    "    for shape_x, shape_y in get_absolute_shape_positions(shape):\n",
    "        if shape_x < 0:\n",
    "            return True\n",
    "        elif shape_y >= cols or shape_y < 0:\n",
    "            return True\n",
    "        elif shape_x < rows and grid[shape_x][shape_y]:\n",
    "            return True\n",
    "    return False\n",
    "\n",
    "def extend_grid(grid, num_rows, fill_value=0, copy=False):\n",
    "    if copy:\n",
    "        grid = deepcopy(grid)\n",
    "    cols = get_grid_shape(grid)[1]\n",
    "    grid.extend([[fill_value] * cols for _ in range(num_rows)])\n",
    "    \n",
    "    return grid\n",
    "\n",
    "def add_shape_to_grid(shape, grid):\n",
    "    rows, cols = get_grid_shape(grid)\n",
    "    for shape_x, shape_y in get_absolute_shape_positions(shape):\n",
    "        if shape_x + 3 >= rows:\n",
    "            extend_grid(grid, shape_x - rows + 1)\n",
    "        grid[shape_x][shape_y] = shape['num']\n",
    "\n",
    "def get_top_row_with_piece(grid):\n",
    "    \"\"\"Highest row on the grid that contains a piece, or -1 if the grid is empty.\"\"\"\n",
    "    for r in reversed(range(len(grid))):\n",
    "        if any(grid[r]):\n",
    "            return r\n",
    "    return -1\n",
    "\n",
    "def visualize_grid(grid, shape=None, filepath=None):\n",
    "    writer = sys.stdout\n",
    "    if filepath is not None:\n",
    "        writer = open(filepath, 'a')\n",
    "    try:\n",
    "        shape_coords = list(get_absolute_shape_positions(shape)) if shape else []\n",
    "        height, width = get_grid_shape(grid)\n",
    "        for r, row in reversed(list(enumerate(grid))):\n",
    "            row_out = []\n",
    "            for c, cell_value in enumerate(row):\n",
    "                cell = (r, c)\n",
    "                v = '.'\n",
    "                if cell in shape_coords:\n",
    "                    v = '@'\n",
    "                if cell_value > 0:\n",
    "                    # Draw collisions with !\n",
    "                    v = '#'\n",
    "                    # v = str(cell_value) if v == '.' else '!'\n",
    "                row_out.append(v)\n",
    "            writer.write(' '.join([f'{v: <0}' for v in row_out]) + '\\n')\n",
    "        writer.write(f'+-{\"--\"*(width-2)}+\\n\\n')\n",
    "    finally:\n",
    "        if filepath is not None:\n",
    "            writer.close()\n"
   ]
  },
  {
   "cell_type": "code",
   "execution_count": null,
   "metadata": {},
   "outputs": [],
   "source": [
    "for offset in range(100):\n",
    "    start_idx = 0\n",
    "    for j in range(offset):\n",
    "        start_idx = d.index('\\n', start_idx + 1)\n",
    "    idx = start_idx\n",
    "    print('--line offset', d[:start_idx + 1].count('\\n'))\n",
    "    for i in range(100):\n",
    "        idx = d.index('\\n', idx + 1)\n",
    "        txt = d[start_idx + 1:idx]\n",
    "        cnt = d.count(txt)\n",
    "        if cnt > 1:\n",
    "            print(i, cnt)\n",
    "            lines = txt.splitlines()\n",
    "            if len(lines) > 1 and lines[0] == lines[-1]:\n",
    "                print('eq', lines[0], '!', lines[-1])"
   ]
  },
  {
   "cell_type": "code",
   "execution_count": 71,
   "metadata": {},
   "outputs": [
    {
     "name": "stdout",
     "output_type": "stream",
     "text": [
      "422\n",
      "521\n",
      "663\n",
      "675\n",
      "928\n",
      "956\n",
      "1039\n",
      "1078\n",
      "1115\n",
      "1256\n",
      "1257\n",
      "1284\n",
      "1603\n",
      "1605\n",
      "2050\n",
      "2263\n",
      "2281\n",
      "2617\n",
      "2878\n",
      "2887\n",
      "3069\n",
      "3159\n"
     ]
    }
   ],
   "source": [
    "grid = [[0] * 7 for _ in range(6)]\n",
    "highest_piece = -1\n",
    "shapes = get_shapes()\n",
    "inp = get_input(example=False)\n",
    "movements = chain.from_iterable(zip(get_offsets_from_input(inp), repeat((-1, 0))))\n",
    "for i in range(2022):\n",
    "    shape = {'offsets': next(shapes), 'pos': [highest_piece + 4, 2], 'num': i + 1}\n",
    "    # if i % 50 == 0:\n",
    "    #     visualize_grid(grid, shape, filepath='viz.txt')\n",
    "\n",
    "    while True:\n",
    "        # clear_output()\n",
    "        # visualize_grid(grid, shape, filepath='viz.txt')\n",
    "\n",
    "        movement = next(movements)\n",
    "        test_shape = deepcopy(shape)\n",
    "        test_shape['pos'] = [shape['pos'][0] + movement[0], shape['pos'][1] + movement[1]]\n",
    "        if has_collision(test_shape, grid):\n",
    "            if movement == (-1, 0):\n",
    "                extend_grid(grid, max((highest_piece + 6) - len(grid), 0))\n",
    "                add_shape_to_grid(shape, grid)\n",
    "                highest_piece = get_top_row_with_piece(grid)\n",
    "                for j in range(shape['pos'][0], len(grid)):\n",
    "                    nz = sum([1 for c in grid[j] if c > 0])\n",
    "                    if nz  == 7:\n",
    "                        print(j)\n",
    "                break\n",
    "        else:\n",
    "            shape = test_shape\n",
    "\n",
    "if os.path.exists('viz.txt'):\n",
    "    os.remove('viz.txt')\n",
    "visualize_grid(grid, shape, filepath='viz.txt')\n",
    "print(highest_piece + 1)"
   ]
  },
  {
   "cell_type": "code",
   "execution_count": null,
   "metadata": {},
   "outputs": [],
   "source": [
    "grid = [[0] * 7 for _ in range(6)]\n",
    "highest_piece = -1\n",
    "shapes = get_shapes()\n",
    "inp = get_input(example=True)\n",
    "wait_until_shapes = len(inp) * len(SHAPEDEFS)\n",
    "movements = chain.from_iterable(zip(get_offsets_from_input(inp), repeat((-1, 0))))\n",
    "for i in count():\n",
    "    shape = {'offsets': next(shapes), 'pos': [highest_piece + 4, 2], 'num': i + 1}\n",
    "\n",
    "    while True:\n",
    "        movement = next(movements)\n",
    "        test_shape = deepcopy(shape)\n",
    "        test_shape['pos'] = [shape['pos'][0] + movement[0], shape['pos'][1] + movement[1]]\n",
    "        if has_collision(test_shape, grid):\n",
    "            if movement == (-1, 0):\n",
    "                extend_grid(grid, max((highest_piece + 6) - len(grid), 0))\n",
    "                add_shape_to_grid(shape, grid)\n",
    "                highest_piece = get_top_row_with_piece(grid)\n",
    "                break\n",
    "        else:\n",
    "            shape = test_shape\n",
    "\n",
    "if os.path.exists('viz.txt'):\n",
    "    os.remove('viz.txt')\n",
    "visualize_grid(grid, shape, filepath='viz.txt')\n",
    "print(highest_piece + 1)"
   ]
  },
  {
   "cell_type": "code",
   "execution_count": null,
   "metadata": {},
   "outputs": [],
   "source": [
    "d, r = divmod(1000000000000, 35)"
   ]
  },
  {
   "cell_type": "code",
   "execution_count": null,
   "metadata": {},
   "outputs": [],
   "source": [
    "r"
   ]
  },
  {
   "cell_type": "code",
   "execution_count": null,
   "metadata": {},
   "outputs": [],
   "source": [
    "(d * 53) + 25"
   ]
  },
  {
   "cell_type": "code",
   "execution_count": null,
   "metadata": {},
   "outputs": [],
   "source": [
    "visualize_grid(grid)"
   ]
  }
 ],
 "metadata": {
  "kernelspec": {
   "display_name": "Python 3.11.0 ('venv': venv)",
   "language": "python",
   "name": "python3"
  },
  "language_info": {
   "codemirror_mode": {
    "name": "ipython",
    "version": 3
   },
   "file_extension": ".py",
   "mimetype": "text/x-python",
   "name": "python",
   "nbconvert_exporter": "python",
   "pygments_lexer": "ipython3",
   "version": "3.11.0"
  },
  "orig_nbformat": 4,
  "vscode": {
   "interpreter": {
    "hash": "4d43e88d46fe556c8019dc4092b8a78eb0925767a373eb800e353faa840bf082"
   }
  }
 },
 "nbformat": 4,
 "nbformat_minor": 2
}
